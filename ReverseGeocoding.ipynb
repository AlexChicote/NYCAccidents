{
 "cells": [
  {
   "cell_type": "code",
   "execution_count": null,
   "id": "ae5e1450-8bf3-432a-b24b-e92aa3fcb37d",
   "metadata": {},
   "outputs": [
    {
     "name": "stdout",
     "output_type": "stream",
     "text": [
      "Doing some work...\n"
     ]
    },
    {
     "name": "stdin",
     "output_type": "stream",
     "text": [
      "How many for this go around? (multiples of 1000)  5000\n"
     ]
    },
    {
     "name": "stdout",
     "output_type": "stream",
     "text": [
      "141000\n"
     ]
    }
   ],
   "source": [
    "import pandas as pd\n",
    "import time\n",
    "from geopy.geocoders import Nominatim\n",
    "import pickle\n",
    "import os\n",
    "import playsound\n",
    "\n",
    "def play_done_message():\n",
    "    playsound.playsound(\"./data/MamaDoIt.mp3\")\n",
    "\n",
    "# Your main code\n",
    "print(\"Doing some work...\")\n",
    "geolocator = Nominatim(user_agent=\"NYCAccidentsProject\")\n",
    "total_number=int(input('How many for this go around? (multiples of 1000) '))\n",
    "while total_number%1000 !=0:\n",
    "    total_number=input('How many for this go around? (multiples of 1000) ')\n",
    "\n",
    "for _ in range(int(total_number/1000)):\n",
    "    \n",
    "    pkl=[file for file in os.listdir() if file.endswith('.pkl')]\n",
    "    with open(pkl[0],'rb') as f:\n",
    "        all_dict=pickle.load(f)   \n",
    "    initial=all_dict['last_row']\n",
    "    print(initial)\n",
    "    final=initial+1000\n",
    "    df=all_dict['info'].iloc[initial:final]\n",
    "    idx=df.index\n",
    "    count=0\n",
    "    for row in idx:\n",
    "        #print(row)\n",
    "        count+=1\n",
    "        if count%1000==0:\n",
    "            print(row,count)\n",
    "        location = geolocator.reverse((df.loc[row, 'latitude'],df.loc[row,'longitude']), exactly_one=True)\n",
    "    #print(type(all_dict['df']),type(location))\n",
    "        time.sleep(1)\n",
    "        if location:\n",
    "            all_dict['df'].loc[row,'address']=location[0]\n",
    "        else:\n",
    "            all_dict['df'].loc[row,'address']=\"Nothing\"\n",
    "\n",
    "    all_dict['last_row']=len(all_dict['df'])\n",
    "    print(len(all_dict['df']))\n",
    "    with open(f'first{final}.pkl','wb') as f:\n",
    "        pickle.dump(all_dict,f)\n",
    "    \n",
    "    if pkl[0]:\n",
    "        os.remove(pkl[0])\n",
    "        print(f\"{pkl[0]} has been deleted.\")\n",
    "    else:\n",
    "        print(f\"{pkl[0]} does not exist.\")\n",
    "# Play the video when the code is done\n",
    "play_done_message()"
   ]
  },
  {
   "cell_type": "code",
   "execution_count": null,
   "id": "19e38c95-979d-4211-a970-0fd0c9f930ac",
   "metadata": {},
   "outputs": [],
   "source": []
  }
 ],
 "metadata": {
  "kernelspec": {
   "display_name": "Python 3 (ipykernel)",
   "language": "python",
   "name": "python3"
  },
  "language_info": {
   "codemirror_mode": {
    "name": "ipython",
    "version": 3
   },
   "file_extension": ".py",
   "mimetype": "text/x-python",
   "name": "python",
   "nbconvert_exporter": "python",
   "pygments_lexer": "ipython3",
   "version": "3.11.8"
  }
 },
 "nbformat": 4,
 "nbformat_minor": 5
}
