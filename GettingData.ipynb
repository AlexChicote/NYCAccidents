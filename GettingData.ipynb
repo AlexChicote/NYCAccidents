{
 "cells": [
  {
   "cell_type": "code",
   "execution_count": 2,
   "id": "91622af3-a3a3-4797-8be1-4e506b6cd92c",
   "metadata": {},
   "outputs": [
    {
     "name": "stdout",
     "output_type": "stream",
     "text": [
      "DONE\n"
     ]
    }
   ],
   "source": [
    "import pandas as pd\n",
    "import numpy as np\n",
    "import requests\n",
    "from  data.pathsandmore import pathname, api_secret, api_id,app_Token\n",
    "import functions \n",
    "from geopy.geocoders import Nominatim\n",
    "import pickle\n",
    "import playsound\n",
    "import os\n",
    "import re\n",
    "import time\n",
    "\n",
    "from datetime import datetime \n",
    "from datetime import timedelta\n",
    "import importlib\n",
    "\n",
    "importlib.reload(functions)\n",
    "\n",
    "\n",
    "print(\"DONE\")"
   ]
  },
  {
   "cell_type": "code",
   "execution_count": 4,
   "id": "79795302-a54c-485e-b9da-5e6b5d9cd88e",
   "metadata": {},
   "outputs": [
    {
     "name": "stdout",
     "output_type": "stream",
     "text": [
      "START DATE:  2025-05-20\n"
     ]
    },
    {
     "name": "stdin",
     "output_type": "stream",
     "text": [
      "Enter new date 'yyyy-mm-dd' 2025-06-01\n"
     ]
    },
    {
     "name": "stdout",
     "output_type": "stream",
     "text": [
      "START DATE:  2025-05-20 \n",
      " FINAL DATE:  2025-06-01\n",
      "2025-05-21 00:00:00 <class 'datetime.datetime'> 2025-05-20 00:00:00 2025-06-01 00:00:00\n",
      "RESP LEN: 214\n",
      "214\n",
      "RESP LEN: 238\n",
      "2025-05-22 00:00:00 452\n",
      "RESP LEN: 253\n",
      "2025-05-23 00:00:00 705\n",
      "RESP LEN: 208\n",
      "2025-05-24 00:00:00 913\n",
      "RESP LEN: 204\n",
      "2025-05-25 00:00:00 1117\n",
      "RESP LEN: 175\n",
      "2025-05-26 00:00:00 1292\n",
      "RESP LEN: 253\n",
      "2025-05-27 00:00:00 1545\n",
      "RESP LEN: 238\n",
      "2025-05-28 00:00:00 1783\n",
      "RESP LEN: 220\n",
      "2025-05-29 00:00:00 2003\n",
      "RESP LEN: 249\n",
      "2025-05-30 00:00:00 2252\n",
      "RESP LEN: 212\n",
      "2025-05-31 00:00:00 2464\n",
      "RESP LEN: 181\n",
      "2025-06-01 00:00:00 2645\n",
      "1 (2645, 33)\n",
      "2 (2645, 35)\n",
      "3 (2645, 34)\n",
      "4 (2645, 38)\n",
      "(2177624, 38) (2645, 38)\n"
     ]
    },
    {
     "data": {
      "text/plain": [
       "<function functions.play_done_message()>"
      ]
     },
     "execution_count": 4,
     "metadata": {},
     "output_type": "execute_result"
    }
   ],
   "source": [
    "df=pd.read_csv('batches.zip',compression='zip',parse_dates=['crash_date'])\n",
    "start_date=str(df.crash_date.max())[:10]\n",
    "print(\"START DATE: \",start_date)\n",
    "#Where to end:\n",
    "final_date=input(\"Enter new date 'yyyy-mm-dd'\")\n",
    "#final_date='2024-12-05'\n",
    "final_date_dt= datetime.strptime(final_date, '%Y-%m-%d')\n",
    "start_date_dt= datetime.strptime(start_date, '%Y-%m-%d')\n",
    "#start_date=start_date.to_pydatetime()\n",
    "new_date=start_date_dt+timedelta(1)\n",
    "#Creating df to store data\n",
    "new_df=pd.DataFrame()\n",
    "while new_date <= final_date_dt:\n",
    "    new_date_str=str(new_date)[:10]\n",
    "    url=f'https://data.cityofnewyork.us/resource/h9gi-nx95.json?$$app_token={app_Token}&crash_date={new_date_str}'\n",
    "    resp=requests.get(url).json()\n",
    "    print('RESP LEN:',len(resp),new_date_str)\n",
    "    if new_df.empty:\n",
    "        new_df=pd.DataFrame(resp)\n",
    "        print(new_df.shape[0])\n",
    "        new_date=new_date+timedelta(1)\n",
    "    else:\n",
    "        new_df=pd.concat([new_df,pd.DataFrame(resp)])\n",
    "        print(new_date,new_df.shape[0])\n",
    "        new_date=new_date+timedelta(1)\n",
    "\n",
    "new_df=functions.adding_shp_boro(new_df)\n",
    "new_df=functions.adding_shp_hood(new_df)\n",
    "\n",
    "new_df=functions.adding_shp_zip(new_df)\n",
    "\n",
    "#eliminate columns duplicated with zip code\n",
    "zip_columns=[col for col in new_df.columns if 'zip_code' in col]\n",
    "new_df[zip_columns[0]]=new_df[zip_columns].bfill(axis=1).iloc[:,[0]]\n",
    "new_df.drop(zip_columns[1:],axis=1,inplace=True)\n",
    "\n",
    "new_df=functions.adding_shp_st(new_df)\n",
    "\n",
    "#next step is combnine this with batches.\n",
    "rename_columns={'vehicle_type_code1':'vehicle_type_code_1',\n",
    "               'vehicle_type_code2':'vehicle_type_code_2'}\n",
    "new_df.rename(columns=rename_columns,inplace=True)\n",
    "new_df.reset_index(inplace=True,drop=True)\n",
    "print(df.shape,new_df.shape)\n",
    "final_df=pd.concat([df, new_df])\n",
    "final_df.to_csv('batches.zip',compression='zip',index=False)\n",
    "functions.play_done_message()"
   ]
  }
 ],
 "metadata": {
  "kernelspec": {
   "display_name": "Python 3 (ipykernel)",
   "language": "python",
   "name": "python3"
  },
  "language_info": {
   "codemirror_mode": {
    "name": "ipython",
    "version": 3
   },
   "file_extension": ".py",
   "mimetype": "text/x-python",
   "name": "python",
   "nbconvert_exporter": "python",
   "pygments_lexer": "ipython3",
   "version": "3.11.8"
  }
 },
 "nbformat": 4,
 "nbformat_minor": 5
}
