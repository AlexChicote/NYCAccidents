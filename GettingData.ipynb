{
 "cells": [
  {
   "cell_type": "code",
   "execution_count": 20,
   "id": "91622af3-a3a3-4797-8be1-4e506b6cd92c",
   "metadata": {},
   "outputs": [
    {
     "name": "stdout",
     "output_type": "stream",
     "text": [
      "DONE\n"
     ]
    }
   ],
   "source": [
    "import pandas as pd\n",
    "import numpy as np\n",
    "import requests\n",
    "import python_files.pathsandmore as paths\n",
    "import python_files.functions as f\n",
    "import playsound\n",
    "import time\n",
    "\n",
    "from datetime import datetime \n",
    "from datetime import timedelta\n",
    "import importlib\n",
    "\n",
    "importlib.reload(f)\n",
    "importlib.reload(paths)\n",
    "\n",
    "\n",
    "print(\"DONE\")"
   ]
  },
  {
   "cell_type": "code",
   "execution_count": 33,
   "id": "79795302-a54c-485e-b9da-5e6b5d9cd88e",
   "metadata": {},
   "outputs": [
    {
     "name": "stdout",
     "output_type": "stream",
     "text": [
      "START DATE:  2025-06-06\n"
     ]
    },
    {
     "name": "stdin",
     "output_type": "stream",
     "text": [
      "Enter new date 'yyyy-mm-dd' 2025-6-08\n"
     ]
    },
    {
     "name": "stdout",
     "output_type": "stream",
     "text": [
      "RESP LEN: 165 2025-06-07\n",
      "165\n",
      "RESP LEN: 0 2025-06-08\n",
      "2025-06-08 00:00:00 165\n",
      "(2181393, 32) (165, 38)\n"
     ]
    }
   ],
   "source": [
    "df=pd.read_csv(paths.pathnamelastupdate,\n",
    "               compression='zip',\n",
    "               parse_dates=['crash_date'],\n",
    "               dtype = {'zip_code': 'str'},\n",
    "               date_format=\"ISO8601\"\n",
    "              )\n",
    "start_date=str(df.crash_date.max())[:10]\n",
    "print(\"START DATE: \",start_date)\n",
    "#Where to end:\n",
    "final_date=input(\"Enter new date 'yyyy-mm-dd'\")\n",
    "#final_date='2024-12-05'\n",
    "final_date_dt= datetime.strptime(final_date, '%Y-%m-%d')\n",
    "start_date_dt= datetime.strptime(start_date, '%Y-%m-%d')\n",
    "#start_date=start_date.to_pydatetime()\n",
    "new_date=start_date_dt+timedelta(1)\n",
    "#Creating df to store data\n",
    "new_df=pd.DataFrame()\n",
    "while new_date <= final_date_dt:\n",
    "    new_date_str=str(new_date)[:10]\n",
    "    url=f'https://data.cityofnewyork.us/resource/h9gi-nx95.json?$$app_token={paths.app_Token}&crash_date={new_date_str}'\n",
    "    resp=requests.get(url).json()\n",
    "    print('RESP LEN:',len(resp),new_date_str)\n",
    "    if new_df.empty:\n",
    "        new_df=pd.DataFrame(resp)\n",
    "        print(new_df.shape[0])\n",
    "        new_date=new_date+timedelta(1)\n",
    "    else:\n",
    "        new_df=pd.concat([new_df,pd.DataFrame(resp)])\n",
    "        print(new_date,new_df.shape[0])\n",
    "        new_date=new_date+timedelta(1)\n",
    "\n",
    "new_df=f.adding_shp_boro(new_df,paths.pathshapefileboro)\n",
    "new_df=f.adding_shp_hood(new_df,paths.pathshapefilehood)\n",
    "\n",
    "new_df=f.adding_shp_zip(new_df,paths.pathshapefilezipcode)\n",
    "\n",
    "#eliminate columns duplicated with zip code\n",
    "zip_columns=[col for col in new_df.columns if 'zip_code' in col]\n",
    "new_df[zip_columns[0]]=new_df[zip_columns].bfill(axis=1).iloc[:,[0]]\n",
    "new_df.drop(zip_columns[1:],axis=1,inplace=True)\n",
    "\n",
    "new_df=f.adding_shp_st(new_df,paths.pathshapefilestreet)\n",
    "\n",
    "#next step is combnine this with batches.\n",
    "rename_columns={'vehicle_type_code1':'vehicle_type_code_1',\n",
    "               'vehicle_type_code2':'vehicle_type_code_2'}\n",
    "new_df.rename(columns=rename_columns,inplace=True)\n",
    "new_df.reset_index(inplace=True,drop=True)\n",
    "print(df.shape,new_df.shape)\n",
    "final_df=pd.concat([df, new_df])\n",
    "index_cols=[col for col in final_df.columns if col.startswith('index_')]\n",
    "to_drop =index_cols + ['location', 'borough']\n",
    "final_df.drop(to_drop,axis=1,inplace=True)\n",
    "final_df.to_csv(paths.pathnamelastupdate,compression='zip',index=False)\n",
    "f.play_done_message()"
   ]
  }
 ],
 "metadata": {
  "kernelspec": {
   "display_name": "Python 3 (ipykernel)",
   "language": "python",
   "name": "python3"
  },
  "language_info": {
   "codemirror_mode": {
    "name": "ipython",
    "version": 3
   },
   "file_extension": ".py",
   "mimetype": "text/x-python",
   "name": "python",
   "nbconvert_exporter": "python",
   "pygments_lexer": "ipython3",
   "version": "3.11.8"
  }
 },
 "nbformat": 4,
 "nbformat_minor": 5
}
